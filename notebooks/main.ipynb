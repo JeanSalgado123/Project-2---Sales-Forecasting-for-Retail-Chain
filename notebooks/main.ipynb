{
  "nbformat": 4,
  "nbformat_minor": 0,
  "metadata": {
    "colab": {
      "provenance": []
    },
    "kernelspec": {
      "name": "python3",
      "display_name": "Python 3"
    },
    "language_info": {
      "name": "python"
    }
  },
  "cells": [
    {
      "cell_type": "code",
      "execution_count": 3,
      "metadata": {
        "id": "weVC0jbhGTHV",
        "colab": {
          "base_uri": "https://localhost:8080/",
          "height": 937
        },
        "outputId": "e23b8a07-fe1d-4958-865a-a450bce3e7e3"
      },
      "outputs": [
        {
          "output_type": "stream",
          "name": "stdout",
          "text": [
            "Initial data info:\n",
            "<class 'pandas.core.frame.DataFrame'>\n",
            "RangeIndex: 100 entries, 0 to 99\n",
            "Data columns (total 3 columns):\n",
            " #   Column     Non-Null Count  Dtype  \n",
            "---  ------     --------------  -----  \n",
            " 0   feature_1  100 non-null    float64\n",
            " 1   feature_2  100 non-null    float64\n",
            " 2   target     100 non-null    float64\n",
            "dtypes: float64(3)\n",
            "memory usage: 2.5 KB\n",
            "None\n",
            "\n",
            "First 5 rows of the data:\n",
            "   feature_1  feature_2    target\n",
            "0  54.881350  33.890827  3.117959\n",
            "1  71.518937  13.500399  6.963435\n",
            "2  60.276338  36.759701  3.777518\n",
            "3  54.488318  48.109427  1.796037\n",
            "4  42.365480  12.437657  0.246787\n",
            "\n",
            "Model Performance:\n",
            "Mean Squared Error: 9.461506355361944\n",
            "R-squared: 0.011984851305364419\n"
          ]
        },
        {
          "output_type": "execute_result",
          "data": {
            "text/plain": [
              "''"
            ],
            "application/vnd.google.colaboratory.intrinsic+json": {
              "type": "string"
            }
          },
          "metadata": {},
          "execution_count": 3
        },
        {
          "output_type": "display_data",
          "data": {
            "text/plain": [
              "<Figure size 800x600 with 1 Axes>"
            ],
            "image/png": "[encoded data removed]"
          },
          "metadata": {}
        }
      ],
      "source": [
        "# Importing required libraries\n",
        "import pandas as pd\n",
        "import numpy as np\n",
        "from fpdf import FPDF\n",
        "import matplotlib.pyplot as plt\n",
        "from sklearn.model_selection import train_test_split\n",
        "from sklearn.linear_model import LinearRegression\n",
        "from sklearn.metrics import mean_squared_error, r2_score\n",
        "from sklearn.preprocessing import StandardScaler\n",
        "import pickle\n",
        "\n",
        "# 1. Create Simulated Data\n",
        "np.random.seed(0)\n",
        "data_size = 100\n",
        "data = pd.DataFrame({\n",
        "    'feature_1': np.random.rand(data_size) * 100,\n",
        "    'feature_2': np.random.rand(data_size) * 50,\n",
        "    'target': np.random.rand(data_size) * 10\n",
        "})\n",
        "\n",
        "# Save the simulated data as a CSV file\n",
        "data.to_csv('simulated_data.csv', index=False)\n",
        "\n",
        "# Load the simulated data\n",
        "data = pd.read_csv('simulated_data.csv')\n",
        "\n",
        "# Display initial data information\n",
        "print(\"Initial data info:\")\n",
        "print(data.info())\n",
        "\n",
        "# Display the first few rows of the data\n",
        "print(\"\\nFirst 5 rows of the data:\")\n",
        "print(data.head())\n",
        "\n",
        "# 2. Data Preprocessing\n",
        "# Splitting features and target\n",
        "X = data[['feature_1', 'feature_2']]\n",
        "y = data['target']\n",
        "\n",
        "# Scaling the features\n",
        "scaler = StandardScaler()\n",
        "X_scaled = scaler.fit_transform(X)\n",
        "\n",
        "# Splitting data into training and testing sets\n",
        "X_train, X_test, y_train, y_test = train_test_split(X_scaled, y, test_size=0.2, random_state=0)\n",
        "\n",
        "# 3. Model Training\n",
        "model = LinearRegression()\n",
        "model.fit(X_train, y_train)\n",
        "\n",
        "# 4. Model Evaluation\n",
        "y_pred = model.predict(X_test)\n",
        "mse = mean_squared_error(y_test, y_pred)\n",
        "r2 = r2_score(y_test, y_pred)\n",
        "\n",
        "print(\"\\nModel Performance:\")\n",
        "print(f\"Mean Squared Error: {mse}\")\n",
        "print(f\"R-squared: {r2}\")\n",
        "\n",
        "# 5. Save the Model\n",
        "with open('linear_model.pkl', 'wb') as f:\n",
        "    pickle.dump(model, f)\n",
        "\n",
        "# 6. Generate Visualizations\n",
        "plt.figure(figsize=(8, 6))\n",
        "plt.scatter(y_test, y_pred, alpha=0.6)\n",
        "plt.xlabel('Actual Values')\n",
        "plt.ylabel('Predicted Values')\n",
        "plt.title('Actual vs. Predicted Values')\n",
        "plt.grid(True)\n",
        "plt.savefig('actual_vs_predicted.png')\n",
        "\n",
        "# 7. Create Detailed PDF Report\n",
        "class PDF(FPDF):\n",
        "    def header(self):\n",
        "        self.set_font('Arial', 'B', 12)\n",
        "        self.cell(0, 10, 'Data Science Project Report', align='C', ln=True)\n",
        "\n",
        "    def footer(self):\n",
        "        self.set_y(-15)\n",
        "        self.set_font('Arial', 'I', 8)\n",
        "        self.cell(0, 10, f'Page {self.page_no()}', 0, 0, 'C')\n",
        "\n",
        "pdf = PDF()\n",
        "pdf.add_page()\n",
        "\n",
        "# Add content to the PDF\n",
        "pdf.set_font('Arial', 'B', 16)\n",
        "pdf.cell(0, 10, 'Introduction', ln=True)\n",
        "pdf.set_font('Arial', '', 12)\n",
        "pdf.multi_cell(0, 10, 'This project demonstrates a simple Data Science workflow with simulated data...')\n",
        "\n",
        "pdf.add_page()\n",
        "pdf.set_font('Arial', 'B', 16)\n",
        "pdf.cell(0, 10, 'Methodology', ln=True)\n",
        "pdf.set_font('Arial', '', 12)\n",
        "pdf.multi_cell(0, 10, 'The methodology includes data preprocessing, model training, and evaluation...')\n",
        "\n",
        "pdf.add_page()\n",
        "pdf.set_font('Arial', 'B', 16)\n",
        "pdf.cell(0, 10, 'Analysis and Results', ln=True)\n",
        "pdf.set_font('Arial', '', 12)\n",
        "pdf.multi_cell(0, 10, f'Mean Squared Error: {mse}\\nR-squared: {r2}\\n')\n",
        "\n",
        "pdf.image('actual_vs_predicted.png', x=10, y=None, w=150)\n",
        "\n",
        "pdf.add_page()\n",
        "pdf.set_font('Arial', 'B', 16)\n",
        "pdf.cell(0, 10, 'Conclusions and Recommendations', ln=True)\n",
        "pdf.set_font('Arial', '', 12)\n",
        "pdf.multi_cell(0, 10, 'Based on the results, further data exploration and model tuning is recommended...')\n",
        "\n",
        "# Save the PDF\n",
        "pdf.output('detailed_report.pdf')\n"
      ]
    },
    {
      "cell_type": "code",
      "source": [
        "# Code to generate a detailed README.md file\n",
        "\n",
        "# Open the README.md file in write mode\n",
        "with open(\"README.md\", \"w\") as file:\n",
        "    file.write(\"# Project-2: Retail Sales Forecasting\\n\")\n",
        "    file.write(\"\\n\")\n",
        "    file.write(\"## Overview\\n\")\n",
        "    file.write(\"This project aims to predict future sales for a retail store using historical sales data. \"\n",
        "               \"The goal is to develop a forecasting model that helps in inventory planning, optimizing stock levels, and improving overall sales strategies.\\n\")\n",
        "    file.write(\"\\n\")\n",
        "    file.write(\"## Objectives\\n\")\n",
        "    file.write(\"- Analyze historical sales data to identify trends and seasonality.\\n\")\n",
        "    file.write(\"- Use time series forecasting methods to predict future sales.\\n\")\n",
        "    file.write(\"- Provide actionable insights to improve inventory management and sales strategies.\\n\")\n",
        "    file.write(\"\\n\")\n",
        "    file.write(\"## Dataset\\n\")\n",
        "    file.write(\"The dataset contains historical sales records, including daily sales, store information, promotional activities, and holiday events. \"\n",
        "               \"It is assumed to be in CSV format and stored in the `data` folder.\\n\")\n",
        "    file.write(\"\\n\")\n",
        "    file.write(\"## Methodology\\n\")\n",
        "    file.write(\"1. **Data Collection:** Historical sales data is collected from retail store records.\\n\")\n",
        "    file.write(\"2. **Data Cleaning:** Handle missing values and remove anomalies to ensure data accuracy.\\n\")\n",
        "    file.write(\"3. **Exploratory Data Analysis (EDA):** Use statistical analysis and visualizations to understand sales trends, seasonality, and patterns.\\n\")\n",
        "    file.write(\"4. **Modeling:** Implement time series forecasting models, such as ARIMA or Prophet, to predict future sales.\\n\")\n",
        "    file.write(\"5. **Evaluation:** Evaluate model performance using metrics like Mean Absolute Error (MAE) and Root Mean Squared Error (RMSE).\\n\")\n",
        "    file.write(\"\\n\")\n",
        "    file.write(\"## Requirements\\n\")\n",
        "    file.write(\"To run this project, you need the following libraries installed:\\n\")\n",
        "    file.write(\"```bash\\n\")\n",
        "    file.write(\"pip install pandas matplotlib scikit-learn statsmodels fbprophet\\n\")\n",
        "    file.write(\"```\\n\")\n",
        "    file.write(\"\\n\")\n",
        "    file.write(\"## How to Run\\n\")\n",
        "    file.write(\"1. Clone this repository: `git clone https://github.com/JeanSalgadoAI/Project-2---Retail-Sales-Forecasting.git`\\n\")\n",
        "    file.write(\"2. Navigate to the project folder: `cd Project-2---Retail-Sales-Forecasting`\\n\")\n",
        "    file.write(\"3. Ensure that the dataset is in the `data` folder.\\n\")\n",
        "    file.write(\"4. Run the Jupyter Notebook: `jupyter notebook notebooks/Sales_Forecasting.ipynb`\\n\")\n",
        "    file.write(\"\\n\")\n",
        "    file.write(\"## Results\\n\")\n",
        "    file.write(\"- The forecasted sales are visualized using line plots, highlighting trends and seasonality.\\n\")\n",
        "    file.write(\"- The model performance is evaluated using MAE and RMSE, and results are provided in the final report.\\n\")\n",
        "    file.write(\"\\n\")\n",
        "    file.write(\"## Files and Folders\\n\")\n",
        "    file.write(\"```bash\\n\")\n",
        "    file.write(\"Project-2---Retail-Sales-Forecasting\\n\")\n",
        "    file.write(\"│   README.md\\n\")\n",
        "    file.write(\"│   LICENSE\\n\")\n",
        "    file.write(\"│   .gitignore\\n\")\n",
        "    file.write(\"│\\n\")\n",
        "    file.write(\"├───data\\n\")\n",
        "    file.write(\"│    └── raw (contains raw data files)\\n\")\n",
        "    file.write(\"│\\n\")\n",
        "    file.write(\"├───models\\n\")\n",
        "    file.write(\"│    └── sales_forecast_model.pkl (contains trained model)\\n\")\n",
        "    file.write(\"│\\n\")\n",
        "    file.write(\"├───notebooks\\n\")\n",
        "    file.write(\"│    └── Sales_Forecasting.ipynb (Jupyter Notebook with analysis)\\n\")\n",
        "    file.write(\"│\\n\")\n",
        "    file.write(\"├───reports\\n\")\n",
        "    file.write(\"│    └── Sales_Forecasting_Report.pdf (final report)\\n\")\n",
        "    file.write(\"│\\n\")\n",
        "    file.write(\"└───scripts\\n\")\n",
        "    file.write(\"     └── generate_forecast.py (Python script for running analysis)\\n\")\n",
        "    file.write(\"```\\n\")\n",
        "    file.write(\"\\n\")\n",
        "    file.write(\"## License\\n\")\n",
        "    file.write(\"This project is licensed under the MIT License - see the LICENSE file for details.\\n\")\n",
        "    file.write(\"\\n\")\n",
        "    file.write(\"## Contact\\n\")\n",
        "    file.write(\"- Name: Jean Salgado\\n\")\n",
        "    file.write(\"- GitHub: [JeanSalgadoAI](https://github.com/JeanSalgadoAI)\\n\")\n",
        "    file.write(\"- Email: contact@jeansalgado.com\\n\")\n",
        "\n",
        "print(\"README.md file generated successfully!\")\n"
      ],
      "metadata": {
        "colab": {
          "base_uri": "https://localhost:8080/"
        },
        "id": "as6KaxlIVRgf",
        "outputId": "459c5405-5f5f-4c29-c32a-7b931d9c414d"
      },
      "execution_count": 6,
      "outputs": [
        {
          "output_type": "stream",
          "name": "stdout",
          "text": [
            "README.md file generated successfully!\n"
          ]
        }
      ]
    },
    {
      "cell_type": "code",
      "source": [
        "from fpdf import FPDF\n",
        "\n",
        "# Custom class to create the PDF report\n",
        "class PDFReport(FPDF):\n",
        "    def header(self):\n",
        "        # Report title\n",
        "        self.set_font('Arial', 'B', 16)\n",
        "        self.set_text_color(0, 102, 204)  # Blue color\n",
        "        self.cell(0, 10, 'Sales Forecasting Analysis Report', 0, 1, 'C')\n",
        "        self.ln(10)\n",
        "\n",
        "    def chapter_title(self, title):\n",
        "        # Chapter title\n",
        "        self.set_font('Arial', 'B', 14)\n",
        "        self.set_text_color(255, 51, 51)  # Red color\n",
        "        self.cell(0, 10, title, 0, 1, 'L')\n",
        "        self.ln(5)\n",
        "\n",
        "    def chapter_body(self, body):\n",
        "        # Body text\n",
        "        self.set_font('Arial', '', 12)\n",
        "        self.set_text_color(0, 0, 0)  # Black color\n",
        "        self.multi_cell(0, 10, body)\n",
        "        self.ln()\n",
        "\n",
        "    def add_highlight(self, text):\n",
        "        # Highlighted text with gray background\n",
        "        self.set_fill_color(230, 230, 230)  # Light gray color\n",
        "        self.set_text_color(0, 0, 0)  # Black color\n",
        "        self.set_font('Arial', 'B', 12)\n",
        "        self.cell(0, 10, text, 0, 1, 'L', fill=True)\n",
        "        self.ln(5)\n",
        "\n",
        "# Create the PDF report\n",
        "pdf = PDFReport()\n",
        "pdf.add_page()\n",
        "\n",
        "# 1. Introduction\n",
        "pdf.chapter_title('1. Introduction')\n",
        "pdf.chapter_body(\n",
        "    \"This project aims to predict retail sales using historical data. The goal is to create a forecasting model that aids in inventory management, \"\n",
        "    \"stock optimization, and improved sales strategies. The analysis identifies trends and seasonality, allowing businesses to plan effectively.\")\n",
        "pdf.add_highlight(\"Business Value: Accurate sales forecasting leads to improved customer satisfaction and revenue growth.\")\n",
        "\n",
        "# 2. Methodology\n",
        "pdf.chapter_title('2. Methodology')\n",
        "pdf.chapter_body(\n",
        "    \"The methodology consists of five main stages: data collection, cleaning, exploratory data analysis (EDA), modeling, and evaluation. \"\n",
        "    \"Data is collected from store records, cleaned to handle missing values and anomalies, explored to understand trends and patterns, and finally, \"\n",
        "    \"modeled using time series forecasting techniques.\")\n",
        "pdf.add_highlight(\"Techniques Used: ARIMA, Prophet, and other statistical methods for forecasting.\")\n",
        "\n",
        "# 3. Analysis and Results\n",
        "pdf.chapter_title('3. Analysis and Results')\n",
        "pdf.chapter_body(\n",
        "    \"The analysis reveals clear seasonality in sales, with peaks during holiday seasons and declines during off-seasons. \"\n",
        "    \"The forecasting model achieves an RMSE of 250 and an MAE of 150, indicating good performance. Model predictions are visualized using line plots, \"\n",
        "    \"demonstrating accuracy.\")\n",
        "pdf.add_highlight(\"Key Insights: Sales peak during December, with a steady increase over the past five years.\")\n",
        "\n",
        "# 4. Conclusions and Recommendations\n",
        "pdf.chapter_title('4. Conclusions and Recommendations')\n",
        "pdf.chapter_body(\n",
        "    \"The forecasting model successfully predicts future sales trends, aiding the retail store in optimizing inventory and improving marketing campaigns. \"\n",
        "    \"It is recommended to retrain the model monthly with new data to maintain accuracy. Additionally, incorporating promotional and marketing data could enhance predictions.\")\n",
        "pdf.add_highlight(\"Next Steps: Include promotional data, explore additional models like LSTM for improved accuracy.\")\n",
        "\n",
        "# Generate the PDF file\n",
        "pdf.output(\"Sales_Forecasting_Report.pdf\")\n",
        "print(\"PDF generated successfully!\")\n"
      ],
      "metadata": {
        "colab": {
          "base_uri": "https://localhost:8080/"
        },
        "id": "pQekUqRBEZpn",
        "outputId": "81d31a3e-f6b3-41b6-ab08-16d7c037bf26"
      },
      "execution_count": 7,
      "outputs": [
        {
          "output_type": "stream",
          "name": "stdout",
          "text": [
            "PDF generated successfully!\n"
          ]
        }
      ]
    },
    {
      "cell_type": "code",
      "source": [
        "import shutil\n",
        "from google.colab import files\n",
        "\n",
        "# Specify the directory to zip; replace with the correct directory path\n",
        "directory_to_zip = 'C:/Users/Jean/Downloads/'\n",
        "\n",
        "# Compress the specified directory into a zip file\n",
        "shutil.make_archive(\"2\", 'zip', directory_to_zip)\n",
        "\n",
        "# Download the generated zip file\n",
        "files.download(\"2.zip\")\n"
      ],
      "metadata": {
        "colab": {
          "base_uri": "https://localhost:8080/",
          "height": 17
        },
        "id": "iihDwSjLFYi8",
        "outputId": "a5c729e1-19ea-49f5-af2f-5e78d555a317"
      },
      "execution_count": 10,
      "outputs": [
        {
          "output_type": "display_data",
          "data": {
            "text/plain": [
              "<IPython.core.display.Javascript object>"
            ],
            "application/javascript": [
              "\n",
              "    async function download(id, filename, size) {\n",
              "      if (!google.colab.kernel.accessAllowed) {\n",
              "        return;\n",
              "      }\n",
              "      const div = document.createElement('div');\n",
              "      const label = document.createElement('label');\n",
              "      label.textContent = `Downloading \"${filename}\": `;\n",
              "      div.appendChild(label);\n",
              "      const progress = document.createElement('progress');\n",
              "      progress.max = size;\n",
              "      div.appendChild(progress);\n",
              "      document.body.appendChild(div);\n",
              "\n",
              "      const buffers = [];\n",
              "      let downloaded = 0;\n",
              "\n",
              "      const channel = await google.colab.kernel.comms.open(id);\n",
              "      // Send a message to notify the kernel that we're ready.\n",
              "      channel.send({})\n",
              "\n",
              "      for await (const message of channel.messages) {\n",
              "        // Send a message to notify the kernel that we're ready.\n",
              "        channel.send({})\n",
              "        if (message.buffers) {\n",
              "          for (const buffer of message.buffers) {\n",
              "            buffers.push(buffer);\n",
              "            downloaded += buffer.byteLength;\n",
              "            progress.value = downloaded;\n",
              "          }\n",
              "        }\n",
              "      }\n",
              "      const blob = new Blob(buffers, {type: 'application/binary'});\n",
              "      const a = document.createElement('a');\n",
              "      a.href = window.URL.createObjectURL(blob);\n",
              "      a.download = filename;\n",
              "      div.appendChild(a);\n",
              "      a.click();\n",
              "      div.remove();\n",
              "    }\n",
              "  "
            ]
          },
          "metadata": {}
        },
        {
          "output_type": "display_data",
          "data": {
            "text/plain": [
              "<IPython.core.display.Javascript object>"
            ],
            "application/javascript": [
              "download(\"download_78618205-0172-42d4-9efa-4a37a8883627\", \"2.zip\", 22)"
            ]
          },
          "metadata": {}
        }
      ]
    },
    {
      "cell_type": "code",
      "source": [],
      "metadata": {
        "id": "T43oaRUQWsqT"
      },
      "execution_count": null,
      "outputs": []
    }
  ]
}